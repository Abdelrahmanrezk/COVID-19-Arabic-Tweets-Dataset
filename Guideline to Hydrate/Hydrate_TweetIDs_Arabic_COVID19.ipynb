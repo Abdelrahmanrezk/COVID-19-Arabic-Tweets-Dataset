{
 "cells": [
  {
   "cell_type": "markdown",
   "metadata": {
    "colab_type": "text",
    "id": "_d7ziPnwivti"
   },
   "source": [
    "**Notebook  for tweets-ID hydration automatically**\n",
    "\n",
    "\n",
    "1.   This notebook helps in retriving the full object of the tweet using TweetID from COVID-19-Arabic-Tweets-Dataset repository on Github using TWARC library\n",
    "2.   To  hydrate tweets-ID you must have [Tiwtter developer account](https://developer.twitter.com).\n"
   ]
  },
  {
   "cell_type": "markdown",
   "metadata": {
    "colab_type": "text",
    "id": "1zOdTOhrm32f"
   },
   "source": [
    "Install twarc library  via:"
   ]
  },
  {
   "cell_type": "code",
   "execution_count": null,
   "metadata": {
    "colab": {},
    "colab_type": "code",
    "id": "R65VlWoimOdR"
   },
   "outputs": [],
   "source": [
    "%pip install twarc"
   ]
  },
  {
   "cell_type": "code",
   "execution_count": null,
   "metadata": {
    "colab": {},
    "colab_type": "code",
    "id": "8sH3-GM2m3Px"
   },
   "outputs": [],
   "source": [
    "from google.colab import drive \n",
    "from twarc import Twarc\n",
    "import pandas as pd\n",
    "import  json\n",
    "import csv\n",
    "\n"
   ]
  },
  {
   "cell_type": "markdown",
   "metadata": {
    "colab_type": "text",
    "id": "cnQrdgQR_YEN"
   },
   "source": [
    "**Mount Drive**\n",
    "\n",
    "Mounting Google Drive into Google Colab To clone the COVID-19-Arabic-Tweets-Dataset repository on Github just execute this next command on Colab notebook and follow the link that it will display in the output"
   ]
  },
  {
   "cell_type": "code",
   "execution_count": null,
   "metadata": {
    "colab": {
     "base_uri": "https://localhost:8080/",
     "height": 34
    },
    "colab_type": "code",
    "id": "CTbAe5lDnARP",
    "outputId": "2e2ab657-464c-4411-b1d6-c158ae316d9d"
   },
   "outputs": [],
   "source": [
    "drive.mount(\"/content/drive\")\n"
   ]
  },
  {
   "cell_type": "markdown",
   "metadata": {
    "colab_type": "text",
    "id": "1xao9jns_bbu"
   },
   "source": [
    "This code  clone the COVID-19-Arabic-Tweets-Dataset repository  on google drive  "
   ]
  },
  {
   "cell_type": "code",
   "execution_count": null,
   "metadata": {
    "colab": {
     "base_uri": "https://localhost:8080/"
    },
    "colab_type": "code",
    "id": "8No_n96knBll",
    "outputId": "ab1df09d-126d-4238-8caa-f6da5162299a"
   },
   "outputs": [],
   "source": [
    "!git clone https://github.com/SarahAlqurashi/COVID-19-Arabic-Tweets-Dataset"
   ]
  },
  {
   "cell_type": "markdown",
   "metadata": {
    "colab_type": "text",
    "id": "DUWyPyvb_ag_"
   },
   "source": [
    "**Twitter API Keys**\n",
    "\n",
    "Once you've created your application, write down the consumer key, consumer secret, access token and access token secret."
   ]
  },
  {
   "cell_type": "code",
   "execution_count": null,
   "metadata": {
    "colab": {},
    "colab_type": "code",
    "id": "OV10Hoy7m6rE"
   },
   "outputs": [],
   "source": [
    "#Variables that contains the user credentials to access Twitter API \n",
    "access_token = \"\" #@param {type:\"string\"}\n",
    "access_token_secret =\"\" #@param {type:\"string\"}\n",
    "consumer_key = \"\"#@param {type:\"string\"}\n",
    "consumer_secret =\"\"#@param {type:\"string\"}"
   ]
  },
  {
   "cell_type": "code",
   "execution_count": null,
   "metadata": {
    "colab": {},
    "colab_type": "code",
    "id": "0zhQBLcwm9gu"
   },
   "outputs": [],
   "source": [
    "T = Twarc(consumer_key, consumer_secret, access_token, access_token_secret)"
   ]
  },
  {
   "cell_type": "markdown",
   "metadata": {
    "colab_type": "text",
    "id": "4irdyjETMIMQ"
   },
   "source": [
    "**Hydrate TweetID**"
   ]
  },
  {
   "cell_type": "markdown",
   "metadata": {
    "colab_type": "text",
    "id": "GTc06UAlMmZk"
   },
   "source": [
    " Set up your output  and input files"
   ]
  },
  {
   "cell_type": "code",
   "execution_count": null,
   "metadata": {
    "colab": {},
    "colab_type": "code",
    "id": "69Mq2CJfmz7B"
   },
   "outputs": [],
   "source": [
    "input_file= \"\" #@param {type:\"string\"}\n",
    "output_file= \"output.csv\" #@param {type:\"string\"}\n"
   ]
  },
  {
   "cell_type": "markdown",
   "metadata": {
    "colab_type": "text",
    "id": "gO7wVoqFMHc_"
   },
   "source": [
    "The following code will hydrate the ides and retrieve json of the tweet. Note that the time of this code depends on the number of the tweet you want to hydrate. Due to the Twitter API limit, the code will go to sleep for a few minutes once the limit is reached and automatically continue."
   ]
  },
  {
   "cell_type": "code",
   "execution_count": null,
   "metadata": {
    "colab": {},
    "colab_type": "code",
    "id": "9GgkQeUrqa5k"
   },
   "outputs": [],
   "source": [
    "ids = []\n",
    "hydrated_tweets=[]\n",
    "with open(input_file, \"r\") as ids_file: #open the input file\n",
    "   ids=ids_file.read().split() #read and store the ids  \n",
    "count = len(hydrated_tweets) #set up counter\n",
    "end_index =len(ids) \n",
    "print(\"Total IDs: \" + str(len(ids)))\n",
    "for tweet in T.hydrate(iter(ids)): \n",
    "    hydrated_tweets.append(tweet)  #appent tweet json into a list \n",
    "    count += 1      \n",
    "    if (count == end_index): #stop condition \n",
    "        break\n",
    "print(str(len(hydrated_tweets))+ \"Tweet Saved\")\n",
    "\n",
    "with open('JsonOutputFile.txt', 'w') as outfile: #open json file\n",
    "    json.dump(hydrated_tweets, outfile) # write the data into json file\n"
   ]
  },
  {
   "cell_type": "markdown",
   "metadata": {
    "colab_type": "text",
    "id": "Gc1wRwBaOQaC"
   },
   "source": [
    "This code Store the data into CSV file "
   ]
  },
  {
   "cell_type": "code",
   "execution_count": null,
   "metadata": {
    "colab": {},
    "colab_type": "code",
    "id": "Tahb6ws2tVVe"
   },
   "outputs": [],
   "source": [
    "fileInput = \"JsonOutputFile.txt\"\n",
    "inputFile = open(fileInput) #open json file\n",
    "outputFile = open(output_file, 'w') #load csv file\n",
    "data = json.load(inputFile) #load json content\n",
    "inputFile.close() #close the input file\n",
    "output = csv.writer(outputFile) #create a csv.write\n",
    "output.writerow(data[0].keys()) # header row\n",
    "for row in data:\n",
    "    output.writerow(row.values()) #values row"
   ]
  }
 ],
 "metadata": {
  "colab": {
   "collapsed_sections": [],
   "name": "Tweet_hydrate.ipynb",
   "provenance": []
  },
  "kernelspec": {
   "display_name": "Python 3",
   "language": "python",
   "name": "python3"
  },
  "language_info": {
   "codemirror_mode": {
    "name": "ipython",
    "version": 3
   },
   "file_extension": ".py",
   "mimetype": "text/x-python",
   "name": "python",
   "nbconvert_exporter": "python",
   "pygments_lexer": "ipython3",
   "version": "3.7.6"
  }
 },
 "nbformat": 4,
 "nbformat_minor": 4
}
