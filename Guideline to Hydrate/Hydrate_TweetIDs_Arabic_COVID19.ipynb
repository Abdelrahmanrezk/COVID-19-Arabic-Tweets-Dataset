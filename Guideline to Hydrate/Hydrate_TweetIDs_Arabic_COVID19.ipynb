{
  "nbformat": 4,
  "nbformat_minor": 0,
  "metadata": {
    "colab": {
      "name": "Tweet_hydrate.ipynb",
      "provenance": [],
      "collapsed_sections": []
    },
    "kernelspec": {
      "name": "python3",
      "display_name": "Python 3"
    }
  },
  "cells": [
    {
      "cell_type": "markdown",
      "metadata": {
        "id": "_d7ziPnwivti",
        "colab_type": "text"
      },
      "source": [
        "**Notebook  for tweets-ID hydration automatically**\n",
        "\n",
        "\n",
        "1.   This notebook helps in retriving the full object of the tweet using TweetID from COVID-19-Arabic-Tweets-Dataset repository on Github using TWARC library\n",
        "2.   To  hydrate tweets-ID you must have [Tiwtter developer account](https://developer.twitter.com).\n",
        "\n",
        "\n",
        "\n",
        "\n",
        "\n",
        "\n",
        "\n",
        "\n",
        "\n",
        "\n"
      ]
    },
    {
      "cell_type": "markdown",
      "metadata": {
        "id": "1zOdTOhrm32f",
        "colab_type": "text"
      },
      "source": [
        "\n",
        "Install twarc library  via:\n",
        "\n"
      ]
    },
    {
      "cell_type": "code",
      "metadata": {
        "id": "R65VlWoimOdR",
        "colab_type": "code",
        "colab": {}
      },
      "source": [
        "%pip install twarc"
      ],
      "execution_count": 0,
      "outputs": []
    },
    {
      "cell_type": "code",
      "metadata": {
        "id": "8sH3-GM2m3Px",
        "colab_type": "code",
        "colab": {}
      },
      "source": [
        "from google.colab import drive \n",
        "from twarc import Twarc\n",
        "import pandas as pd\n",
        "import  json\n",
        "import csv\n",
        "\n"
      ],
      "execution_count": 0,
      "outputs": []
    },
    {
      "cell_type": "markdown",
      "metadata": {
        "id": "cnQrdgQR_YEN",
        "colab_type": "text"
      },
      "source": [
        "**Mount Drive**\n",
        "\n",
        "Mounting Google Drive into Google Colab To clone the COVID-19-Arabic-Tweets-Dataset repository on Github just execute this next command on Colab notebook and follow the link that it will display in the output\n",
        "\n",
        " \n",
        "\n",
        "\n",
        "\n",
        "\n"
      ]
    },
    {
      "cell_type": "code",
      "metadata": {
        "id": "CTbAe5lDnARP",
        "colab_type": "code",
        "outputId": "a1372dc0-386a-40ae-8fb6-176b8fc6a3d9",
        "colab": {
          "base_uri": "https://localhost:8080/",
          "height": 249
        }
      },
      "source": [
        "drive.mount(\"/content/drive\")\n"
      ],
      "execution_count": 0,
      "outputs": [
        {
          "output_type": "stream",
          "text": [
            "Go to this URL in a browser: https://accounts.google.com/o/oauth2/auth?client_id=947318989803-6bn6qk8qdgf4n4g3pfee6491hc0brc4i.apps.googleusercontent.com&redirect_uri=urn%3aietf%3awg%3aoauth%3a2.0%3aoob&response_type=code&scope=email%20https%3a%2f%2fwww.googleapis.com%2fauth%2fdocs.test%20https%3a%2f%2fwww.googleapis.com%2fauth%2fdrive%20https%3a%2f%2fwww.googleapis.com%2fauth%2fdrive.photos.readonly%20https%3a%2f%2fwww.googleapis.com%2fauth%2fpeopleapi.readonly\n",
            "\n",
            "Enter your authorization code:\n",
            "··········\n",
            "Mounted at /content/drive\n"
          ],
          "name": "stdout"
        }
      ]
    },
    {
      "cell_type": "markdown",
      "metadata": {
        "id": "1xao9jns_bbu",
        "colab_type": "text"
      },
      "source": [
        "This code  clone the COVID-19-Arabic-Tweets-Dataset repository  on google drive \n",
        "\n",
        "\n",
        " \n"
      ]
    },
    {
      "cell_type": "code",
      "metadata": {
        "id": "8No_n96knBll",
        "colab_type": "code",
        "outputId": "78da1b85-8f54-416f-c836-39e84832b8a8",
        "colab": {
          "base_uri": "https://localhost:8080/",
          "height": 165
        }
      },
      "source": [
        "!git clone https://github.com/SarahAlqurashi/COVID-19-Arabic-Tweets-Dataset"
      ],
      "execution_count": 0,
      "outputs": [
        {
          "output_type": "stream",
          "text": [
            "Cloning into 'COVID-19-Arabic-Tweets-Dataset'...\n",
            "remote: Enumerating objects: 33, done.\u001b[K\n",
            "remote: Counting objects:   3% (1/33)\u001b[K\rremote: Counting objects:   6% (2/33)\u001b[K\rremote: Counting objects:   9% (3/33)\u001b[K\rremote: Counting objects:  12% (4/33)\u001b[K\rremote: Counting objects:  15% (5/33)\u001b[K\rremote: Counting objects:  18% (6/33)\u001b[K\rremote: Counting objects:  21% (7/33)\u001b[K\rremote: Counting objects:  24% (8/33)\u001b[K\rremote: Counting objects:  27% (9/33)\u001b[K\rremote: Counting objects:  30% (10/33)\u001b[K\rremote: Counting objects:  33% (11/33)\u001b[K\rremote: Counting objects:  36% (12/33)\u001b[K\rremote: Counting objects:  39% (13/33)\u001b[K\rremote: Counting objects:  42% (14/33)\u001b[K\rremote: Counting objects:  45% (15/33)\u001b[K\rremote: Counting objects:  48% (16/33)\u001b[K\rremote: Counting objects:  51% (17/33)\u001b[K\rremote: Counting objects:  54% (18/33)\u001b[K\rremote: Counting objects:  57% (19/33)\u001b[K\rremote: Counting objects:  60% (20/33)\u001b[K\rremote: Counting objects:  63% (21/33)\u001b[K\rremote: Counting objects:  66% (22/33)\u001b[K\rremote: Counting objects:  69% (23/33)\u001b[K\rremote: Counting objects:  72% (24/33)\u001b[K\rremote: Counting objects:  75% (25/33)\u001b[K\rremote: Counting objects:  78% (26/33)\u001b[K\rremote: Counting objects:  81% (27/33)\u001b[K\rremote: Counting objects:  84% (28/33)\u001b[K\rremote: Counting objects:  87% (29/33)\u001b[K\rremote: Counting objects:  90% (30/33)\u001b[K\rremote: Counting objects:  93% (31/33)\u001b[K\rremote: Counting objects:  96% (32/33)\u001b[K\rremote: Counting objects: 100% (33/33)\u001b[K\rremote: Counting objects: 100% (33/33), done.\u001b[K\n",
            "remote: Compressing objects: 100% (33/33), done.\u001b[K\n",
            "remote: Total 147 (delta 20), reused 0 (delta 0), pack-reused 114\u001b[K\n",
            "Receiving objects: 100% (147/147), 17.03 MiB | 20.83 MiB/s, done.\n",
            "Resolving deltas: 100% (59/59), done.\n"
          ],
          "name": "stdout"
        }
      ]
    },
    {
      "cell_type": "markdown",
      "metadata": {
        "id": "DUWyPyvb_ag_",
        "colab_type": "text"
      },
      "source": [
        "**Twitter API Keys**\n",
        "\n",
        "Once you've created your application, write down the consumer key, consumer secret, access token and access token secret\n",
        "\n"
      ]
    },
    {
      "cell_type": "code",
      "metadata": {
        "id": "OV10Hoy7m6rE",
        "colab_type": "code",
        "colab": {}
      },
      "source": [
        "#Variables that contains the user credentials to access Twitter API \n",
        "access_token = \"\" #@param {type:\"string\"}\n",
        "access_token_secret =\"\" #@param {type:\"string\"}\n",
        "consumer_key = \"\" #@param {type:\"string\"}\n",
        "consumer_secret =\"\" #@param {type:\"string\"}"
      ],
      "execution_count": 0,
      "outputs": []
    },
    {
      "cell_type": "code",
      "metadata": {
        "id": "0zhQBLcwm9gu",
        "colab_type": "code",
        "colab": {}
      },
      "source": [
        "T = Twarc(consumer_key, consumer_secret, access_token, access_token_secret)"
      ],
      "execution_count": 0,
      "outputs": []
    },
    {
      "cell_type": "markdown",
      "metadata": {
        "id": "4irdyjETMIMQ",
        "colab_type": "text"
      },
      "source": [
        "**Hydrate TweetID**\n"
      ]
    },
    {
      "cell_type": "markdown",
      "metadata": {
        "id": "GTc06UAlMmZk",
        "colab_type": "text"
      },
      "source": [
        " Set up your output  and input files\n",
        "\n"
      ]
    },
    {
      "cell_type": "code",
      "metadata": {
        "id": "69Mq2CJfmz7B",
        "colab_type": "code",
        "colab": {}
      },
      "source": [
        "Inputfile= \"\" #@param {type:\"string\"}\n",
        "OutputFile= \"\" #@param {type:\"string\"}\n"
      ],
      "execution_count": 0,
      "outputs": []
    },
    {
      "cell_type": "markdown",
      "metadata": {
        "id": "gO7wVoqFMHc_",
        "colab_type": "text"
      },
      "source": [
        "The following code will hydrate the ides and retrieve json of the tweet. \n",
        "note that the time of this code depends on the number of the tweet you want to hydrate. Due to the Twitter API limit, the code will go to sleep for a few minutes once the limit is reached and automatically continue.\n",
        "\n",
        " "
      ]
    },
    {
      "cell_type": "code",
      "metadata": {
        "id": "9GgkQeUrqa5k",
        "colab_type": "code",
        "outputId": "02a20d91-9f6f-44da-95cd-e8426f1edf35",
        "colab": {
          "base_uri": "https://localhost:8080/",
          "height": 51
        }
      },
      "source": [
        "ids = []\n",
        "HydratedTweets=[]\n",
        "with open(Inputfile, \"r\") as ids_file: #open the input file\n",
        "   ids=ids_file.read().split() #read and store the ids  \n",
        "count = len(HydratedTweets) #set up counter\n",
        "end_index =len(ids) \n",
        "print(\"Total IDs: \" + str(len(ids)))\n",
        "for tweet in T.hydrate(iter(ids)): \n",
        "    HydratedTweets.append(tweet)  #appent tweet json into a list \n",
        "    count += 1      \n",
        "    if (count == end_index): #stop condition \n",
        "        break\n",
        "print(str(len(HydratedTweets))+ \"Tweet Saved\")\n",
        "\n",
        "with open('JsonOutputFile.txt', 'w') as outfile: #open json file\n",
        "    json.dump(HydratedTweets, outfile) # write the data into json file\n"
      ],
      "execution_count": 0,
      "outputs": [
        {
          "output_type": "stream",
          "text": [
            "Total IDs: 60302\n",
            "58788Tweet Saved\n"
          ],
          "name": "stdout"
        }
      ]
    },
    {
      "cell_type": "markdown",
      "metadata": {
        "id": "Gc1wRwBaOQaC",
        "colab_type": "text"
      },
      "source": [
        "This code Store the data into CSV file \n",
        "\n"
      ]
    },
    {
      "cell_type": "code",
      "metadata": {
        "id": "Tahb6ws2tVVe",
        "colab_type": "code",
        "colab": {}
      },
      "source": [
        "fileInput = \"JsonOutputFile.txt\"\n",
        "inputFile = open(fileInput) #open json file\n",
        "outputFile = open(OutputFile, 'w') #load csv file\n",
        "data = json.load(inputFile) #load json content\n",
        "inputFile.close() #close the input file\n",
        "output = csv.writer(outputFile) #create a csv.write\n",
        "output.writerow(data[0].keys()) # header row\n",
        "for row in data:\n",
        "    output.writerow(row.values()) #values row"
      ],
      "execution_count": 0,
      "outputs": []
    }
  ]
}