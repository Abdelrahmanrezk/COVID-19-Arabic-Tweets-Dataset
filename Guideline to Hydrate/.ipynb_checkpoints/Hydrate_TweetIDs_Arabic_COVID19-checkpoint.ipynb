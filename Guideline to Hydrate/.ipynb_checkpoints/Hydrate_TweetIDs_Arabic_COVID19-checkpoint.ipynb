{
 "cells": [
  {
   "cell_type": "markdown",
   "metadata": {
    "colab_type": "text",
    "id": "_d7ziPnwivti"
   },
   "source": [
    "**Notebook  for tweets-ID hydration automatically**\n",
    "\n",
    "\n",
    "1.   This notebook helps in retriving the full object of the tweet using TweetID from COVID-19-Arabic-Tweets-Dataset repository on Github using TWARC library\n",
    "2.   To  hydrate tweets-ID you must have [Tiwtter developer account](https://developer.twitter.com).\n",
    "\n",
    "\n",
    "\n",
    "\n",
    "\n",
    "\n",
    "\n",
    "\n",
    "\n",
    "\n"
   ]
  },
  {
   "cell_type": "markdown",
   "metadata": {
    "colab_type": "text",
    "id": "1zOdTOhrm32f"
   },
   "source": [
    "\n",
    "Install twarc library  via:\n",
    "\n"
   ]
  },
  {
   "cell_type": "code",
   "execution_count": null,
   "metadata": {
    "colab": {},
    "colab_type": "code",
    "collapsed": true,
    "id": "R65VlWoimOdR"
   },
   "outputs": [],
   "source": [
    "%pip install twarc"
   ]
  },
  {
   "cell_type": "code",
   "execution_count": null,
   "metadata": {
    "colab": {},
    "colab_type": "code",
    "collapsed": true,
    "id": "8sH3-GM2m3Px"
   },
   "outputs": [],
   "source": [
    "from google.colab import drive\n",
    "from twarc import Twarc\n",
    "from configs import *\n",
    "import pandas as pd\n",
    "import pymongo\n",
    "import  json\n",
    "import csv\n",
    "import os\n",
    "\n"
   ]
  },
  {
   "cell_type": "markdown",
   "metadata": {
    "colab_type": "text",
    "id": "cnQrdgQR_YEN"
   },
   "source": [
    "**Mount Drive**\n",
    "\n",
    "Mounting Google Drive into Google Colab To clone the COVID-19-Arabic-Tweets-Dataset repository on Github just execute this next command on Colab notebook and follow the link that it will display in the output\n",
    "\n",
    " \n",
    "\n",
    "\n",
    "\n",
    "\n"
   ]
  },
  {
   "cell_type": "code",
   "execution_count": null,
   "metadata": {
    "colab": {
     "base_uri": "https://localhost:8080/",
     "height": 249
    },
    "colab_type": "code",
    "collapsed": true,
    "id": "CTbAe5lDnARP",
    "outputId": "a1372dc0-386a-40ae-8fb6-176b8fc6a3d9"
   },
   "outputs": [],
   "source": [
    "drive.mount(\"/content/drive\")\n"
   ]
  },
  {
   "cell_type": "markdown",
   "metadata": {
    "colab_type": "text",
    "id": "1xao9jns_bbu"
   },
   "source": [
    "This code  clone the COVID-19-Arabic-Tweets-Dataset repository  on google drive \n",
    "\n",
    "\n",
    " \n"
   ]
  },
  {
   "cell_type": "code",
   "execution_count": null,
   "metadata": {
    "colab": {
     "base_uri": "https://localhost:8080/",
     "height": 165
    },
    "colab_type": "code",
    "collapsed": true,
    "id": "8No_n96knBll",
    "outputId": "78da1b85-8f54-416f-c836-39e84832b8a8"
   },
   "outputs": [],
   "source": [
    "!git clone https://github.com/SarahAlqurashi/COVID-19-Arabic-Tweets-Dataset"
   ]
  },
  {
   "cell_type": "markdown",
   "metadata": {
    "colab_type": "text",
    "id": "DUWyPyvb_ag_"
   },
   "source": [
    "**Twitter API Keys**\n",
    "\n",
    "Once you've created your application, write down the consumer key, consumer secret, access token and access token secret\n",
    "\n"
   ]
  },
  {
   "cell_type": "code",
   "execution_count": null,
   "metadata": {
    "colab": {},
    "colab_type": "code",
    "collapsed": true,
    "id": "OV10Hoy7m6rE"
   },
   "outputs": [],
   "source": [
    "#Variables that contains the user credentials to access Twitter API \n",
    "access_token = \"\" #@param {type:\"string\"}\n",
    "access_token_secret =\"\" #@param {type:\"string\"}\n",
    "consumer_key = \"\" #@param {type:\"string\"}\n",
    "consumer_secret =\"\" #@param {type:\"string\"}"
   ]
  },
  {
   "cell_type": "code",
   "execution_count": null,
   "metadata": {
    "colab": {},
    "colab_type": "code",
    "collapsed": true,
    "id": "0zhQBLcwm9gu"
   },
   "outputs": [],
   "source": [
    "T = Twarc(consumer_key, consumer_secret, access_token, access_token_secret)"
   ]
  },
  {
   "cell_type": "markdown",
   "metadata": {
    "colab_type": "text",
    "id": "4irdyjETMIMQ"
   },
   "source": [
    "**Hydrate TweetID**\n"
   ]
  },
  {
   "cell_type": "markdown",
   "metadata": {
    "colab_type": "text",
    "id": "GTc06UAlMmZk"
   },
   "source": [
    "For each file get related tweets then save each file that contain retired tweets"
   ]
  },
  {
   "cell_type": "code",
   "execution_count": null,
   "metadata": {
    "colab": {},
    "colab_type": "code",
    "collapsed": true,
    "id": "69Mq2CJfmz7B"
   },
   "outputs": [],
   "source": [
    "def one_file_tweets(Inputfile):\n",
    "    '''Get all tweets text in one file'''\n",
    "    ids = []\n",
    "    with open(Inputfile, \"r\", encoding='utf-8') as ids_file: #open the input file\n",
    "        try:\n",
    "            ids=ids_file.read().split() #read and store the ids\n",
    "            print(\"#\"*50)\n",
    "            print(\"ids len: \", len(ids))\n",
    "            tweets_text = []\n",
    "            \n",
    "            # get the tweets text\n",
    "            for tweet in T.hydrate(iter(ids)):\n",
    "                tweets_text.append(tweet['full_text'])\n",
    "            # some tweets does not returned so we try from last tweet we got to the end of the ids file \n",
    "            while len(tweets_text) != len(ids):\n",
    "                indx=len(tweets_text) \n",
    "                for tweet in T.hydrate(iter(ids[indx:])):\n",
    "                    tweets_text.append(tweet['full_text'])\n",
    "            dict_col = {'full_text': tweets_text}\n",
    "            df_file = pd.DataFrame(dict_col)\n",
    "            df_file.to_csv('csv_down_files/'+ Inputfile +'.csv', index=False)\n",
    "        except Exception as e:\n",
    "            print(e) # check which error do you have\n",
    "    return True"
   ]
  },
  {
   "cell_type": "markdown",
   "metadata": {
    "colab_type": "text",
    "id": "gO7wVoqFMHc_"
   },
   "source": [
    "### Note !\n",
    "Once you have cloned the repo you will have  4 directions for 4 months each of them contain about 30 files which the days of the month, for each folder we get all of its contained files and path each file to  one_file_tweets function which help us get the text of the tweet for this file then we save this file in same folder name but in other direction which you should have called csv_down_files and in this direction you should have the same 4 direction that you will see below like /COVID19-tweetID-2020-01/."
   ]
  },
  {
   "cell_type": "code",
   "execution_count": null,
   "metadata": {
    "colab": {
     "base_uri": "https://localhost:8080/",
     "height": 51
    },
    "colab_type": "code",
    "collapsed": true,
    "id": "9GgkQeUrqa5k",
    "outputId": "02a20d91-9f6f-44da-95cd-e8426f1edf35"
   },
   "outputs": [],
   "source": [
    "def read_direction(direction_path):\n",
    "    '''Loop over each direction and path each file in this direction to get all tweets'''\n",
    "    all_path_files = os.listdir(direction_path)\n",
    "    for file_path in all_path_files:\n",
    "        file_path = direction_path + file_path\n",
    "        _ = one_file_tweets(file_path)\n",
    "    return True"
   ]
  },
  {
   "cell_type": "code",
   "execution_count": null,
   "metadata": {
    "collapsed": true
   },
   "outputs": [],
   "source": [
    "direction_path1 = \"COVID-19-Arabic-Tweets-Dataset/COVID19-tweetID-2020-01/\"\n",
    "_ = read_direction(direction_path1)"
   ]
  },
  {
   "cell_type": "code",
   "execution_count": null,
   "metadata": {
    "colab": {},
    "colab_type": "code",
    "id": "Tahb6ws2tVVe"
   },
   "outputs": [],
   "source": [
    "direction_path2 = \"COVID-19-Arabic-Tweets-Dataset/COVID19-tweetID-2020-02/\"\n",
    "_ = read_direction(direction_path2)"
   ]
  },
  {
   "cell_type": "code",
   "execution_count": null,
   "metadata": {},
   "outputs": [],
   "source": [
    "direction_path3 = \"COVID-19-Arabic-Tweets-Dataset/COVID19-tweetID-2020-03/\"\n",
    "_ = read_direction(direction_path3)"
   ]
  },
  {
   "cell_type": "code",
   "execution_count": null,
   "metadata": {
    "collapsed": true
   },
   "outputs": [],
   "source": [
    "direction_path4 = \"COVID-19-Arabic-Tweets-Dataset/COVID19-tweetID-2020-04/\"\n",
    "_ = read_direction(direction_path4)"
   ]
  }
 ],
 "metadata": {
  "colab": {
   "collapsed_sections": [],
   "name": "Tweet_hydrate.ipynb",
   "provenance": []
  },
  "kernelspec": {
   "display_name": "Python 3",
   "language": "python",
   "name": "python3"
  },
  "language_info": {
   "codemirror_mode": {
    "name": "ipython",
    "version": 3
   },
   "file_extension": ".py",
   "mimetype": "text/x-python",
   "name": "python",
   "nbconvert_exporter": "python",
   "pygments_lexer": "ipython3",
   "version": "3.6.3"
  }
 },
 "nbformat": 4,
 "nbformat_minor": 4
}
